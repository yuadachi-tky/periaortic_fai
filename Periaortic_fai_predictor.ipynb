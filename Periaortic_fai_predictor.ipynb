{
 "cells": [
  {
   "cell_type": "markdown",
   "source": [
    "# Preparation\n",
    "Preparation before main execution."
   ],
   "metadata": {
    "collapsed": false
   },
   "id": "dc93d07bb49ab850"
  },
  {
   "cell_type": "markdown",
   "source": [
    "## Preferences"
   ],
   "metadata": {
    "collapsed": false
   },
   "id": "1aa181dc8d090682"
  },
  {
   "cell_type": "code",
   "execution_count": null,
   "outputs": [],
   "source": [
    "# Connect to Google Drive\n",
    "from google.colab import drive\n",
    "drive.mount('/content/drive')"
   ],
   "metadata": {
    "collapsed": false,
    "is_executing": true
   },
   "id": "5b7393b36cec642a"
  },
  {
   "cell_type": "code",
   "execution_count": null,
   "outputs": [],
   "source": [
    "# Set working directory\n",
    "full_path = '/content/drive/MyDrive/Periaortic_fai/'"
   ],
   "metadata": {
    "collapsed": false,
    "is_executing": true
   },
   "id": "bedd8c222cbf7815"
  },
  {
   "cell_type": "code",
   "execution_count": null,
   "outputs": [],
   "source": [
    "# Import library\n",
    "# Basic\n",
    "import os\n",
    "import glob\n",
    "from tqdm.notebook import tqdm\n",
    "import re\n",
    "import random\n",
    "import shutil\n",
    "import datetime\n",
    "\n",
    "# Data process\n",
    "import numpy as np\n",
    "import pandas as pd\n",
    "import matplotlib.pyplot  as plt\n",
    "import cv2\n",
    "\n",
    "# CT process\n",
    "!pip install pylibjpeg-libjpeg\n",
    "!pip install pylibjpeg\n",
    "!pip install pydicom\n",
    "import pydicom"
   ],
   "metadata": {
    "collapsed": false,
    "is_executing": true
   },
   "id": "ea5a8cb1be8558af"
  },
  {
   "cell_type": "markdown",
   "source": [
    "## Install Detectron2"
   ],
   "metadata": {
    "collapsed": false
   },
   "id": "bba90622f744b1c7"
  },
  {
   "cell_type": "code",
   "execution_count": null,
   "outputs": [],
   "source": [
    "# pip install\n",
    "!python -m pip install pyyaml --upgrade\n",
    "!python -m pip install 'git+https://github.com/facebookresearch/detectron2.git'"
   ],
   "metadata": {
    "collapsed": false,
    "is_executing": true
   },
   "id": "70d72c0be73bf349"
  },
  {
   "cell_type": "code",
   "execution_count": null,
   "outputs": [],
   "source": [
    "# Show versions\n",
    "import torch, detectron2\n",
    "!nvcc --version\n",
    "TORCH_VERSION = \".\".join(torch.__version__.split(\".\")[:2])\n",
    "CUDA_VERSION = torch.__version__.split(\"+\")[-1]\n",
    "print(\"torch:\", TORCH_VERSION, \"; cuda: \", CUDA_VERSION)\n",
    "print(\"detectron2:\", detectron2.__version__)"
   ],
   "metadata": {
    "collapsed": false,
    "is_executing": true
   },
   "id": "507c30d45214c474"
  },
  {
   "cell_type": "code",
   "execution_count": null,
   "outputs": [],
   "source": [
    "# Import Detectron2\n",
    "from detectron2.utils.logger import setup_logger\n",
    "setup_logger()\n",
    "\n",
    "from detectron2 import model_zoo\n",
    "from detectron2.engine import DefaultPredictor\n",
    "from detectron2.config import get_cfg\n",
    "from detectron2.utils.visualizer import Visualizer, ColorMode"
   ],
   "metadata": {
    "collapsed": false,
    "is_executing": true
   },
   "id": "532087d17d3d0a48"
  },
  {
   "cell_type": "markdown",
   "source": [
    "# Define functions\n",
    "Define functions to be used for processing."
   ],
   "metadata": {
    "collapsed": false
   },
   "id": "92c2a09c65460752"
  },
  {
   "cell_type": "code",
   "execution_count": null,
   "outputs": [],
   "source": [
    "# Sort functions\n",
    "def atoi(text):\n",
    "    return int(text) if text.isdigit() else text\n",
    "\n",
    "def natural_keys(text):\n",
    "    return [ atoi(c) for c in re.split(r'(\\d+)', text) ]"
   ],
   "metadata": {
    "collapsed": false,
    "is_executing": true
   },
   "id": "ccf3f357f4c7a3f8"
  },
  {
   "cell_type": "code",
   "execution_count": null,
   "outputs": [],
   "source": [
    "# Main\n",
    "def run(file_path, debug=False):\n",
    "    ## Load\n",
    "    # Load DICOM file\n",
    "    dicom = pydicom.dcmread(file_path)\n",
    "    file_name = os.path.basename(file_path)\n",
    "\n",
    "    # Get necessary values from DICOM daa\n",
    "    dp = dicom.pixel_array.copy()  # CT value\n",
    "    intercept = dicom['RescaleIntercept'].value  # Intercept\n",
    "    try:\n",
    "        outer_value = dicom['PixelPaddingValue'].value  # CT value outside the circle\n",
    "    except:\n",
    "        outer_value = -2048  # Default Value\n",
    "\n",
    "    # Inverse transform\n",
    "    dp = dp + intercept\n",
    "    outer_value += intercept\n",
    "    dp = np.where(dp==outer_value, -2048, dp)\n",
    "\n",
    "    # DICOM -> Image\n",
    "    if debug:\n",
    "        save_path = f\"{file_name}.jpg\"\n",
    "    else:\n",
    "        save_path = f\"{org_path}{file_name}.jpg\"\n",
    "    cv2.imwrite(save_path, dp)\n",
    "\n",
    "    # Load the image\n",
    "    im = cv2.imread(save_path)\n",
    "    h, w = im.shape[0], im.shape[1]\n",
    "    if debug:\n",
    "        plt.figure(figsize=(20,20))\n",
    "        plt.subplot(2,2,1)\n",
    "        plt.imshow(im)\n",
    "\n",
    "    ## Predict\n",
    "    # Predict image\n",
    "    outputs = predictor(im)\n",
    "\n",
    "    # Save results\n",
    "    v = Visualizer(im[:, :, ::-1], scale=1.0)\n",
    "    v = v.draw_instance_predictions(outputs[\"instances\"].to(\"cpu\"))\n",
    "    if debug:\n",
    "        plt.subplot(2,2,2)\n",
    "        plt.imshow(v.get_image()[:, :, ::-1])\n",
    "    else:\n",
    "        cv2.imwrite(f\"{pred_path}{file_name}.jpg\", v.get_image()[:, :, ::-1])\n",
    "\n",
    "    ## Postprocess\n",
    "    # Prediction results\n",
    "    pred_masks = outputs['instances'].get('pred_masks')\n",
    "    if len(pred_masks) == 0:\n",
    "        if debug:\n",
    "            print(f\"[{file_name}] There is no prediction result.\")\n",
    "        return [{'result': file_name}]  # Exit if no prediction result exists\n",
    "\n",
    "    result_list = []\n",
    "    for i, pred_mask in enumerate(pred_masks):  # Loop as many times as the prediction results\n",
    "        # Get scores and classes\n",
    "        pred_mask = pred_mask.cpu().numpy().astype(np.uint8)\n",
    "        score = outputs['instances'].get('scores').cpu().numpy()[i]\n",
    "        pred_classe = outputs['instances'].get('pred_classes').cpu().numpy()[i]\n",
    "\n",
    "        # Get center coordinates\n",
    "        index = np.where(pred_mask)\n",
    "        x_mean = round(np.sum(index[0]) / len(index[0]), 2)\n",
    "        y_mean = round(np.sum(index[1]) / len(index[1]), 2)\n",
    "\n",
    "        # Check inside/outside detection range\n",
    "        if (x_mean < x_range[0]) | (x_range[1] < x_mean) | (y_mean < y_range[0]) | (y_range[1] < y_mean) :\n",
    "            # Exit if out of range\n",
    "            print(f\"[{file_name}][{i+1}] Out of range: ({x_mean}, {y_mean})\")\n",
    "            continue\n",
    "        else:\n",
    "            # Rename and continue if in range\n",
    "            if i == 0:\n",
    "                file_name_tmp = file_name\n",
    "            else:\n",
    "                file_name_tmp = f\"{file_name}_{i+1}\"\n",
    "\n",
    "        ## Extraction of outer region\n",
    "        # PixelSpacing conversion\n",
    "        ps_value = dicom['PixelSpacing'].value\n",
    "        if debug:\n",
    "            print(f\"[{file_name_tmp}] Pixel Spacing: {ps_value}\")\n",
    "        if ps_value[0] != ps_value[1]:\n",
    "            print(f\"[Warning] Check the value of Pixel Spacing: {ps_value}\")\n",
    "        radius_trans = int(radius / ps_value[0])\n",
    "\n",
    "        # Draw a circle centered on the predicted result pixel\n",
    "        cir = np.zeros((h, w, 3))\n",
    "        for hight in range(0, h):\n",
    "            for width in range(0, w):\n",
    "                if pred_mask[width][hight] == 1:  # Predicted pixel\n",
    "                    # Draw on zeros image\n",
    "                    cv2.circle(cir,\n",
    "                              center=(hight, width),\n",
    "                              radius=radius_trans,\n",
    "                              color=(0, 255, 0),\n",
    "                              thickness=-1,\n",
    "                              lineType=cv2.LINE_4,\n",
    "                              shift=0)\n",
    "\n",
    "        # Draw only the mask of the outer doughnut-shaped area by subtracting the predicted results\n",
    "        cir_mask = (cir[:,:,1]).astype(np.uint8)  # Extract only green and convert to uint8\n",
    "        target_mask = np.where((pred_mask==0)&(cir_mask!=0), 1, 0)  # Extract outer region\n",
    "        if debug:\n",
    "            plt.subplot(2,2,3)\n",
    "            plt.imshow(target_mask)\n",
    "\n",
    "        # Draw a mask of the outer area on the original image\n",
    "        cir_on_img = im.copy()\n",
    "        cir_on_img[:,:,1] = np.where(target_mask == 1, 255, cir_on_img[:,:,1])  # Extract outer region\n",
    "        if debug:\n",
    "            plt.imshow(cir_on_img)\n",
    "        else:\n",
    "            cv2.imwrite(f\"{mask_path}{file_name_tmp}.jpg\", cir_on_img)\n",
    "\n",
    "        ## Extract target region\n",
    "        # Leave only the CT values of target region\n",
    "        target_CT = dp * target_mask\n",
    "        if debug:\n",
    "            print(f\"[{file_name_tmp}][{select_category[pred_classe]}] Before selection…　Min: {target_CT.min()}  Max: {target_CT.max()}  Area: {target_mask.sum()}\")\n",
    "\n",
    "        # Select target CT value\n",
    "        target_CT = np.where(target_CT > max_CT, 0, target_CT)  # Converts more than the maximum value to 0\n",
    "        target_CT = np.where(target_CT < min_CT, 0, target_CT)  # Converts less than minimum value to 0\n",
    "        if debug:\n",
    "            print(f\"[{file_name_tmp}][{select_category[pred_classe]}] After selection…　Min: {target_CT.min()}  Max: {target_CT.max()}  Area: {target_mask.sum()}\")\n",
    "\n",
    "        # Extract only the CT values contained in target_CT\n",
    "        CTs = []\n",
    "        for hight in range(0, h):\n",
    "            for width in range(0, w):\n",
    "                if target_mask[width][hight] == 1:  # Predicted pixel\n",
    "                    if target_CT[width][hight] != 0:  # in target_CT\n",
    "                        CTs.append(target_CT[width][hight])\n",
    "\n",
    "        # Draw Target CT mask\n",
    "        calc_on_img = im.copy()\n",
    "        calc_on_img[:,:,1] = np.where(target_CT != 0, 255, calc_on_img[:,:,1])\n",
    "        if debug:\n",
    "            print(f\"[{file_name_tmp}][{select_category[pred_classe]}] Statistic…  Mean: {np.mean(CTs)}  Standard deviation: {np.std(CTs)}  Area: {len(CTs)}  Total: {np.sum(CTs)}\")\n",
    "            plt.subplot(2,2,4)\n",
    "            plt.imshow(calc_on_img)\n",
    "            os.makedirs(f\"{full_path}output/debug/\", exist_ok=True)\n",
    "            plt.savefig(f\"{full_path}output/debug/{file_name_tmp}.jpg\")\n",
    "        else:\n",
    "            cv2.imwrite(f\"{res_path}{file_name_tmp}.jpg\", calc_on_img)\n",
    "\n",
    "        # Prepare results dict\n",
    "        _dict = {}\n",
    "        _dict['result'] = file_name_tmp\n",
    "        _dict['class'] = select_category[pred_classe]\n",
    "        _dict['CTs'] = CTs\n",
    "        _dict['score'] = score\n",
    "        _dict['(x,y)'] = (x_mean, y_mean)\n",
    "\n",
    "        # Add dict to results list\n",
    "        result_list.append(_dict)\n",
    "\n",
    "    return result_list"
   ],
   "metadata": {
    "collapsed": false,
    "is_executing": true
   },
   "id": "889d021cca42f368"
  },
  {
   "cell_type": "markdown",
   "source": [
    "# Main\n",
    "- Predict the aortic region by a trained model.<br>\n",
    "- Calculate CT values around the aortic region."
   ],
   "metadata": {
    "collapsed": false
   },
   "id": "4094218a9c42748"
  },
  {
   "cell_type": "markdown",
   "source": [
    "## Settings"
   ],
   "metadata": {
    "collapsed": false
   },
   "id": "a92d32d90980b116"
  },
  {
   "cell_type": "code",
   "execution_count": null,
   "outputs": [],
   "source": [
    "# input / output path\n",
    "input_root = f\"{full_path}input/\"\n",
    "output_root = f\"{full_path}output/\"\n",
    "\n",
    "# CT value detection settings\n",
    "threshold = 0.90      # confidence threshold\n",
    "x_range = [150, 400]  # target range: x-axis\n",
    "y_range = [200, 400]  # target range: y-axis\n",
    "radius = 5            # distance around the aortic region (radius in mm)\n",
    "min_CT = -190         # Minimum CT value\n",
    "max_CT = -30          # Maximum CT value"
   ],
   "metadata": {
    "collapsed": false,
    "is_executing": true
   },
   "id": "5eabe9e702b75d81"
  },
  {
   "cell_type": "code",
   "execution_count": null,
   "outputs": [],
   "source": [
    "# About trained model\n",
    "suffix = \"20240513\"\n",
    "# suffix = \"YYYYMMDD\"\n",
    "trained_dir = \"COCO-InstanceSegmentation\"\n",
    "trained_yaml = \"mask_rcnn_X_101_32x8d_FPN_3x\"\n",
    "checkpoint = \"model_final.pth\"\n",
    "select_category = ['Ascending aorta', 'Descending aorta']"
   ],
   "metadata": {
    "collapsed": false,
    "is_executing": true
   },
   "id": "e40ff0a4265d5049"
  },
  {
   "cell_type": "markdown",
   "source": [
    "## Load"
   ],
   "metadata": {
    "collapsed": false
   },
   "id": "fdf41b5c9db3de7b"
  },
  {
   "cell_type": "code",
   "execution_count": null,
   "outputs": [],
   "source": [
    "# Load trained model\n",
    "trained_model = f\"{trained_dir}/{trained_yaml}.yaml\"\n",
    "weights_dir = f\"{full_path}weights/{trained_yaml}_{suffix}\"\n",
    "\n",
    "# Create predictor instance\n",
    "cfg = get_cfg()\n",
    "cfg.merge_from_file(model_zoo.get_config_file(trained_model))\n",
    "cfg.MODEL.ROI_HEADS.SCORE_THRESH_TEST = threshold\n",
    "cfg.MODEL.WEIGHTS = os.path.join(weights_dir, checkpoint)\n",
    "cfg.MODEL.ROI_HEADS.NUM_CLASSES = len(select_category)\n",
    "predictor = DefaultPredictor(cfg)"
   ],
   "metadata": {
    "collapsed": false,
    "is_executing": true
   },
   "id": "e029510367ebd4d7"
  },
  {
   "cell_type": "code",
   "execution_count": null,
   "outputs": [],
   "source": [
    "# Get all folders in input folder\n",
    "files = os.listdir(input_root)\n",
    "dirs = []\n",
    "for f in files:\n",
    "    path = os.path.join(input_root, f)\n",
    "    if os.path.isdir(path):\n",
    "        dirs.append(f)\n",
    "print(f\"Target folder names：{dirs}\")"
   ],
   "metadata": {
    "collapsed": false,
    "is_executing": true
   },
   "id": "dc0ea570d345e6e4"
  },
  {
   "cell_type": "markdown",
   "source": [
    "## Test execution\n",
    "Randomly executes only one file."
   ],
   "metadata": {
    "collapsed": false
   },
   "id": "10cfa5f957e23021"
  },
  {
   "cell_type": "code",
   "execution_count": null,
   "outputs": [],
   "source": [
    "# Get a list of files in the first folder\n",
    "input_path = f\"{input_root}/{dirs[0]}/\"\n",
    "output_path = f\"{output_root}/{dirs[0]}/\"\n",
    "files_path = glob.glob(f\"{input_path}*\")\n",
    "files_path = sorted(files_path, key=natural_keys)\n",
    "\n",
    "# Choice one for test\n",
    "test_file = random.choice(files_path)\n",
    "print(f\"Test target: {test_file}\")\n",
    "\n",
    "# Executes for test\n",
    "list_results = run(test_file, debug=True)"
   ],
   "metadata": {
    "collapsed": false,
    "is_executing": true
   },
   "id": "c945f6600cc844c3"
  },
  {
   "cell_type": "markdown",
   "source": [
    "## Main execution"
   ],
   "metadata": {
    "collapsed": false
   },
   "id": "9ac12019941df03f"
  },
  {
   "cell_type": "code",
   "execution_count": null,
   "outputs": [],
   "source": [
    "# Loop all folders\n",
    "for target in dirs:\n",
    "    # Set path\n",
    "    print(f\"[{target}] Start: {datetime.datetime.now()}\")\n",
    "    input_path = f\"{input_root}/{target}/\"\n",
    "    output_path = f\"{output_root}/{target}/\"\n",
    "\n",
    "    # Get a list of files\n",
    "    files_path = glob.glob(f\"{input_path}*\")\n",
    "    files_path = sorted(files_path, key=natural_keys)\n",
    "\n",
    "    # Delete output folder if it already exists\n",
    "    if os.path.exists(output_path):\n",
    "        print(f'Remove existed output folder...')\n",
    "        shutil.rmtree(output_path)\n",
    "\n",
    "    # Make folders\n",
    "    org_path = f\"{output_path}original_images/\"\n",
    "    pred_path = f\"{output_path}predicted_images/\"\n",
    "    mask_path = f\"{output_path}masked_images/\"\n",
    "    res_path = f\"{output_path}result_images/\"\n",
    "    os.makedirs(org_path, exist_ok=True)\n",
    "    os.makedirs(pred_path, exist_ok=True)\n",
    "    os.makedirs(mask_path, exist_ok=True)\n",
    "    os.makedirs(res_path, exist_ok=True)\n",
    "\n",
    "    # Loop all files\n",
    "    _list = []\n",
    "    for file_path in tqdm(files_path):\n",
    "        # Execute\n",
    "        list_results = run(file_path, debug=False)\n",
    "\n",
    "        for dict_result in list_results:\n",
    "            # Store CT value data\n",
    "            try:\n",
    "                CT = dict_result['CTs']\n",
    "\n",
    "                dict_result[\"mean\"] = np.mean(CT)\n",
    "                dict_result[\"std\"] = np.std(CT)\n",
    "                dict_result[\"area\"] = len(CT)\n",
    "                dict_result[\"sum\"] = np.sum(CT)\n",
    "                _list.append(dict_result)\n",
    "\n",
    "            except Exception as e:\n",
    "                print(f\"[{dict_result['result']}] There is no prediction result.\")\n",
    "\n",
    "    # Output CT value data\n",
    "    df = pd.DataFrame(_list)\n",
    "    df.to_csv(f\"{output_path}{target}.csv\", index=None)\n",
    "    print(f\"[{target}] End: {datetime.datetime.now()}\\n\")"
   ],
   "metadata": {
    "collapsed": false,
    "is_executing": true
   },
   "id": "fc7398ae8431de05"
  }
 ],
 "metadata": {
  "kernelspec": {
   "display_name": "Python 3",
   "language": "python",
   "name": "python3"
  },
  "language_info": {
   "codemirror_mode": {
    "name": "ipython",
    "version": 2
   },
   "file_extension": ".py",
   "mimetype": "text/x-python",
   "name": "python",
   "nbconvert_exporter": "python",
   "pygments_lexer": "ipython2",
   "version": "2.7.6"
  }
 },
 "nbformat": 4,
 "nbformat_minor": 5
}
